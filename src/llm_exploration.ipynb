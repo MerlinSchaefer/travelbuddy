{
 "cells": [
  {
   "cell_type": "code",
   "execution_count": 77,
   "metadata": {},
   "outputs": [],
   "source": [
    "import os\n",
    "\n",
    "\n",
    "from dotenv import load_dotenv\n",
    "\n",
    "from prompts import user_text_travel_prompt, system_text_travel_agent, sample_prompt_data, prompt_input_modifiers, apply_input_modifiers, create_initial_prompt_template\n",
    "from llm import load_chat_LLM\n",
    "from langchain import ConversationChain\n",
    "from langchain.prompts.chat import ChatPromptTemplate, PromptTemplate\n",
    "from langchain.schema import HumanMessage\n",
    "from langchain.callbacks import get_openai_callback\n",
    "load_dotenv()\n",
    "openai_api_key = os.getenv(\"OPENAI_API_KEY\")"
   ]
  },
  {
   "cell_type": "code",
   "execution_count": 78,
   "metadata": {},
   "outputs": [],
   "source": [
    "travel_chat = load_chat_LLM(openai_api_key=openai_api_key)"
   ]
  },
  {
   "cell_type": "code",
   "execution_count": 79,
   "metadata": {},
   "outputs": [
    {
     "data": {
      "text/plain": [
       "'\\n`The trip should go to {destination}. For the duration of {duration}. \\nThe prefered way of travel is by {mode_of_transport} (changeable depending on safety and cost).\\nIt should be a {mode_of_travel}.\\nThe exploration focus is {mode_of_exploration}. \\n{additional_info} `\\n\\n'"
      ]
     },
     "execution_count": 79,
     "metadata": {},
     "output_type": "execute_result"
    }
   ],
   "source": [
    "user_text_travel_prompt"
   ]
  },
  {
   "cell_type": "code",
   "execution_count": 80,
   "metadata": {},
   "outputs": [
    {
     "data": {
      "text/plain": [
       "\"You are a frienly travel planning assistant. Speak in a polite but informal tone.\\nYou will be provided with specific details below (indicated by the single quotation marks).\\nDetails may include: \\nthe destination and duration, \\nthe way of travel (e.g. plane or ship), \\nthe type of travel (e.g. roundtrip vs. staying in one location and exploring it's surroundings),\\nwhere to mainly explore (e.g. city vs. nature or both).\\nadditional things to consider\\n\\nYou're goal is to provide an overview over the destination, including best travel times,\\n list the best things to do and rough cost estimates,\\nThen create a rough itinerary given the specifications.\\n\\nIf you are unsure about any part of the answer indicate it behind the statement using parenthesis, \\nlike the following example:\\n< Thailand is a subtropical country. (May not be accurate) >\\nAnswer in German and use german currency if possible.\\n\""
      ]
     },
     "execution_count": 80,
     "metadata": {},
     "output_type": "execute_result"
    }
   ],
   "source": [
    "system_text_travel_agent"
   ]
  },
  {
   "cell_type": "code",
   "execution_count": 81,
   "metadata": {},
   "outputs": [
    {
     "data": {
      "text/plain": [
       "{'destination': 'one or more african countries that allow for a safari tour',\n",
       " 'duration': 'at least two weeks no longer than three',\n",
       " 'mode_of_transport': 'plane and then using the best local sources (e.g public transport or rental car)',\n",
       " 'mode_of_travel': 'roundtrip',\n",
       " 'mode_of_exploration': 'Nature',\n",
       " 'additional_info': \"The travel group consist of a middle aged women and three young adults (in their 20's).Everybody is from Germany\"}"
      ]
     },
     "execution_count": 81,
     "metadata": {},
     "output_type": "execute_result"
    }
   ],
   "source": [
    "sample_prompt_data"
   ]
  },
  {
   "cell_type": "code",
   "execution_count": 82,
   "metadata": {},
   "outputs": [
    {
     "data": {
      "text/plain": [
       "{'roundtrip_modifier': ' however not with too many single destinations allowing for a couple nights at each location.',\n",
       " 'single_location_modifier': ' however still allowing for daytrips to locations further away and certain variability in sights and locations.',\n",
       " 'nature_modifier': ' however cities are still welcome',\n",
       " 'city_modifier': ' however nature is still welcome'}"
      ]
     },
     "execution_count": 82,
     "metadata": {},
     "output_type": "execute_result"
    }
   ],
   "source": [
    "prompt_input_modifiers"
   ]
  },
  {
   "cell_type": "code",
   "execution_count": 83,
   "metadata": {},
   "outputs": [
    {
     "name": "stdout",
     "output_type": "stream",
     "text": [
      "destination: one or more african countries that allow for a safari tour\n",
      "duration: at least two weeks no longer than three\n",
      "mode_of_transport: plane and then using the best local sources (e.g public transport or rental car)\n",
      "mode_of_travel: roundtrip however not with too many single destinations allowing for a couple nights at each location.\n",
      "mode_of_exploration: Nature however cities are still welcome\n",
      "additional_info: The travel group consist of a middle aged women and three young adults (in their 20's).Everybody is from Germany\n"
     ]
    }
   ],
   "source": [
    "\n",
    "# Modify the input data\n",
    "modified_input = apply_input_modifiers(sample_prompt_data, prompt_input_modifiers)\n",
    "\n",
    "# Print the modified data\n",
    "for key, value in modified_input.items():\n",
    "    print(f'{key}: {value}')\n",
    "\n"
   ]
  },
  {
   "cell_type": "markdown",
   "metadata": {},
   "source": []
  },
  {
   "cell_type": "code",
   "execution_count": null,
   "metadata": {},
   "outputs": [],
   "source": []
  },
  {
   "cell_type": "code",
   "execution_count": 84,
   "metadata": {},
   "outputs": [
    {
     "data": {
      "text/plain": [
       "[SystemMessage(content=\"You are a frienly travel planning assistant. Speak in a polite but informal tone.\\nYou will be provided with specific details below (indicated by the single quotation marks).\\nDetails may include: \\nthe destination and duration, \\nthe way of travel (e.g. plane or ship), \\nthe type of travel (e.g. roundtrip vs. staying in one location and exploring it's surroundings),\\nwhere to mainly explore (e.g. city vs. nature or both).\\nadditional things to consider\\n\\nYou're goal is to provide an overview over the destination, including best travel times,\\n list the best things to do and rough cost estimates,\\nThen create a rough itinerary given the specifications.\\n\\nIf you are unsure about any part of the answer indicate it behind the statement using parenthesis, \\nlike the following example:\\n< Thailand is a subtropical country. (May not be accurate) >\\nAnswer in German and use german currency if possible.\\n\", additional_kwargs={}),\n",
       " HumanMessage(content=\"\\n`The trip should go to one or more african countries that allow for a safari tour. For the duration of at least two weeks no longer than three. \\nThe prefered way of travel is by plane and then using the best local sources (e.g public transport or rental car) (changeable depending on safety and cost).\\nIt should be a roundtrip however not with too many single destinations allowing for a couple nights at each location..\\nThe exploration focus is Nature however cities are still welcome. \\nThe travel group consist of a middle aged women and three young adults (in their 20's).Everybody is from Germany `\\n\\n\", additional_kwargs={}, example=False)]"
      ]
     },
     "execution_count": 84,
     "metadata": {},
     "output_type": "execute_result"
    }
   ],
   "source": [
    "chat_prompt = ChatPromptTemplate.from_messages([\n",
    "    (\"system\", system_text_travel_agent),\n",
    "    (\"human\", user_text_travel_prompt),\n",
    "])\n",
    "message_list = chat_prompt.format_messages(destination = modified_input[\"destination\"],\n",
    "                                           duration = modified_input[\"duration\"],\n",
    "                                           mode_of_transport = modified_input[\"mode_of_transport\"],\n",
    "                                           mode_of_travel = modified_input[\"mode_of_travel\"],\n",
    "                                           mode_of_exploration = modified_input[\"mode_of_exploration\"],\n",
    "                                           additional_info = modified_input[\"additional_info\"])\n",
    "message_list"
   ]
  },
  {
   "cell_type": "code",
   "execution_count": 94,
   "metadata": {},
   "outputs": [],
   "source": [
    "conversation = ConversationChain(llm=travel_chat, verbose = True)"
   ]
  },
  {
   "cell_type": "code",
   "execution_count": 95,
   "metadata": {},
   "outputs": [
    {
     "data": {
      "text/plain": [
       "\"You are a frienly travel planning assistant. Speak in a polite but informal tone.\\nYou will be provided with specific details below (indicated by the single quotation marks).\\nDetails may include: \\nthe destination and duration, \\nthe way of travel (e.g. plane or ship), \\nthe type of travel (e.g. roundtrip vs. staying in one location and exploring it's surroundings),\\nwhere to mainly explore (e.g. city vs. nature or both).\\nadditional things to consider\\n\\nYou're goal is to provide an overview over the destination, including best travel times,\\n list the best things to do and rough cost estimates,\\nThen create a rough itinerary given the specifications.\\n\\nIf you are unsure about any part of the answer indicate it behind the statement using parenthesis, \\nlike the following example:\\n< Thailand is a subtropical country. (May not be accurate) >\\nAnswer in German and use german currency if possible.\\n\\n`The trip should go to {destination}. For the duration of {duration}. \\nThe prefered way of travel is by {mode_of_transport} (changeable depending on safety and cost).\\nIt should be a {mode_of_travel}.\\nThe exploration focus is {mode_of_exploration}. \\n{additional_info} `\\n\\n\""
      ]
     },
     "execution_count": 95,
     "metadata": {},
     "output_type": "execute_result"
    }
   ],
   "source": [
    "initial_prompt_text = f\"{system_text_travel_agent}{user_text_travel_prompt}\"\n",
    "initial_prompt_text"
   ]
  },
  {
   "cell_type": "code",
   "execution_count": 96,
   "metadata": {},
   "outputs": [
    {
     "data": {
      "text/plain": [
       "{'destination': 'one or more african countries that allow for a safari tour',\n",
       " 'duration': 'at least two weeks no longer than three',\n",
       " 'mode_of_transport': 'plane and then using the best local sources (e.g public transport or rental car)',\n",
       " 'mode_of_travel': 'roundtrip however not with too many single destinations allowing for a couple nights at each location.',\n",
       " 'mode_of_exploration': 'Nature however cities are still welcome',\n",
       " 'additional_info': \"The travel group consist of a middle aged women and three young adults (in their 20's).Everybody is from Germany\"}"
      ]
     },
     "execution_count": 96,
     "metadata": {},
     "output_type": "execute_result"
    }
   ],
   "source": [
    "modified_input"
   ]
  },
  {
   "cell_type": "code",
   "execution_count": 97,
   "metadata": {},
   "outputs": [
    {
     "data": {
      "text/plain": [
       "\"You are a frienly travel planning assistant. Speak in a polite but informal tone.\\nYou will be provided with specific details below (indicated by the single quotation marks).\\nDetails may include: \\nthe destination and duration, \\nthe way of travel (e.g. plane or ship), \\nthe type of travel (e.g. roundtrip vs. staying in one location and exploring it's surroundings),\\nwhere to mainly explore (e.g. city vs. nature or both).\\nadditional things to consider\\n\\nYou're goal is to provide an overview over the destination, including best travel times,\\n list the best things to do and rough cost estimates,\\nThen create a rough itinerary given the specifications.\\n\\nIf you are unsure about any part of the answer indicate it behind the statement using parenthesis, \\nlike the following example:\\n< Thailand is a subtropical country. (May not be accurate) >\\nAnswer in German and use german currency if possible.\\n\\n`The trip should go to one or more african countries that allow for a safari tour. For the duration of at least two weeks no longer than three. \\nThe prefered way of travel is by plane and then using the best local sources (e.g public transport or rental car) (changeable depending on safety and cost).\\nIt should be a roundtrip however not with too many single destinations allowing for a couple nights at each location..\\nThe exploration focus is Nature however cities are still welcome. \\nThe travel group consist of a middle aged women and three young adults (in their 20's).Everybody is from Germany `\\n\\n\""
      ]
     },
     "execution_count": 97,
     "metadata": {},
     "output_type": "execute_result"
    }
   ],
   "source": [
    "\n",
    "initial_prompt = create_initial_prompt_template(user_prompt_text=user_text_travel_prompt,\n",
    "                                                system_prompt_text=system_text_travel_agent,\n",
    "                                                input_data=modified_input)\n",
    "initial_prompt"
   ]
  },
  {
   "cell_type": "code",
   "execution_count": null,
   "metadata": {},
   "outputs": [],
   "source": []
  },
  {
   "cell_type": "code",
   "execution_count": 76,
   "metadata": {},
   "outputs": [
    {
     "name": "stdout",
     "output_type": "stream",
     "text": [
      "None\n"
     ]
    }
   ],
   "source": [
    "print(initial_prompt)\n"
   ]
  },
  {
   "cell_type": "code",
   "execution_count": null,
   "metadata": {},
   "outputs": [],
   "source": []
  },
  {
   "cell_type": "code",
   "execution_count": 63,
   "metadata": {},
   "outputs": [
    {
     "name": "stdout",
     "output_type": "stream",
     "text": [
      "\n",
      "\n",
      "\u001b[1m> Entering new ConversationChain chain...\u001b[0m\n",
      "Prompt after formatting:\n",
      "\u001b[32;1m\u001b[1;3mThe following is a friendly conversation between a human and an AI. The AI is talkative and provides lots of specific details from its context. If the AI does not know the answer to a question, it truthfully says it does not know.\n",
      "\n",
      "Current conversation:\n",
      "\n",
      "Human: You are a frienly travel planning assistant. Speak in a polite but informal tone.\n",
      "You will be provided with specific details below (indicated by the single quotation marks).\n",
      "Details may include: \n",
      "the destination and duration, \n",
      "the way of travel (e.g. plane or ship), \n",
      "the type of travel (e.g. roundtrip vs. staying in one location and exploring it's surroundings),\n",
      "where to mainly explore (e.g. city vs. nature or both).\n",
      "additional things to consider\n",
      "\n",
      "You're goal is to provide an overview over the destination, including best travel times,\n",
      " list the best things to do and rough cost estimates,\n",
      "Then create a rough itinerary given the specifications.\n",
      "\n",
      "If you are unsure about any part of the answer indicate it behind the statement using parenthesis, \n",
      "like the following example:\n",
      "< Thailand is a subtropical country. (May not be accurate) >\n",
      "Answer in German and use german currency if possible.\n",
      "\n",
      "`The trip should go to one or more african countries that allow for a safari tour. For the duration of at least two weeks no longer than three. \n",
      "The prefered way of travel is by plane and then using the best local sources (e.g public transport or rental car) (changeable depending on safety and cost).\n",
      "It should be a roundtrip however not with too many single destinations allowing for a couple nights at each location..\n",
      "The exploration focus is Nature however cities are still welcome. \n",
      "The travel group consist of a middle aged women and three young adults (in their 20's).Everybody is from Germany `\n",
      "\n",
      "\n",
      "AI:\u001b[0m\n",
      "\n",
      "\u001b[1m> Finished chain.\u001b[0m\n"
     ]
    },
    {
     "data": {
      "text/plain": [
       "'Eine gute Wahl für eine Safari-Tour wäre Tansania. Das Land bietet eine Vielzahl von atemberaubenden Naturschutzgebieten und Nationalparks, in denen verschiedene Tierarten beobachtet werden können. Die beste Reisezeit für Tansania ist von Juni bis Oktober, wenn das Wetter trocken ist und die Tierwanderungen stattfinden. \\n\\nDie Kosten für einen Flug von Deutschland nach Tansania variieren je nach Reisezeit und Fluggesellschaft. Eine grobe Schätzung für Hin- und Rückflug pro Person liegt bei etwa 600-900 Euro. \\n\\nIn Tansania kannst du verschiedene Aktivitäten unternehmen. Hier sind einige der besten Dinge, die du während deiner Safari-Tour erleben kannst:\\n\\n1. Serengeti-Nationalpark: Dieser Nationalpark ist bekannt für seine Tierwanderungen und bietet eine unglaubliche Vielfalt an Wildtieren wie Löwen, Elefanten, Giraffen und Zebras.\\n\\n2. Ngorongoro-Krater: Der Krater ist ein UNESCO-Weltkulturerbe und beherbergt eine Vielzahl von Tierarten. Hier kannst du eine aufregende Safari machen und die atemberaubende Landschaft genießen.\\n\\n3. Tansanias Küste: Wenn du auch einige Tage am Strand verbringen möchtest, kannst du an die Küste von Tansania reisen. Orte wie Sansibar bieten traumhafte Strände und Möglichkeiten zum Tauchen und Schnorcheln.\\n\\n4. Arusha-Nationalpark: Dieser Park ist ideal für Wanderungen und bietet eine atemberaubende Landschaft mit Blick auf den Kilimandscharo.\\n\\nDie genauen Kosten für Unterkunft, Transport und Aktivitäten hängen von deinen Präferenzen ab. Es gibt verschiedene Safari-Pakete, die Unterkunft, Transport und Safaris beinhalten. Eine grobe Schätzung für eine Safari-Tour in Tansania für zwei Wochen liegt bei etwa 2000-3000 Euro pro Person.\\n\\nHier ist ein möglicher Reiseplan für deine Safari-Tour in Tansania:\\n\\n- Tag 1-3: Ankunft in Dar es Salaam, Übernachtung in einem Hotel\\n- Tag 4-6: Flug nach Arusha, Besuch des Arusha-Nationalparks, Übernachtung in einer Lodge\\n- Tag 7-9: Fahrt zum Serengeti-Nationalpark, Safari-Ausflüge, Übernachtung in einem Safari-Camp\\n- Tag 10-12: Besuch des Ngorongoro-Kraters, Übernachtung in einer Lodge\\n- Tag 13-14: Rückkehr nach Dar es Salaam, Entspannung am Strand von Sansibar\\n- Tag 15: Rückflug nach Deutschland\\n\\nBitte beachte, dass dies nur ein Beispiel ist und du den Reiseplan an deine eigenen Vorlieben anpassen kannst. Es ist auch ratsam, sich über die aktuellen Reisehinweise und Sicherheitsmaßnahmen zu informieren, da sich die Situation ändern kann.'"
      ]
     },
     "execution_count": 63,
     "metadata": {},
     "output_type": "execute_result"
    }
   ],
   "source": [
    "conversation.predict(input = initial_prompt)\n",
    "\n"
   ]
  },
  {
   "cell_type": "code",
   "execution_count": 65,
   "metadata": {},
   "outputs": [
    {
     "name": "stdout",
     "output_type": "stream",
     "text": [
      "\n",
      "\n",
      "\u001b[1m> Entering new ConversationChain chain...\u001b[0m\n",
      "Prompt after formatting:\n",
      "\u001b[32;1m\u001b[1;3mThe following is a friendly conversation between a human and an AI. The AI is talkative and provides lots of specific details from its context. If the AI does not know the answer to a question, it truthfully says it does not know.\n",
      "\n",
      "Current conversation:\n",
      "Human: You are a frienly travel planning assistant. Speak in a polite but informal tone.\n",
      "You will be provided with specific details below (indicated by the single quotation marks).\n",
      "Details may include: \n",
      "the destination and duration, \n",
      "the way of travel (e.g. plane or ship), \n",
      "the type of travel (e.g. roundtrip vs. staying in one location and exploring it's surroundings),\n",
      "where to mainly explore (e.g. city vs. nature or both).\n",
      "additional things to consider\n",
      "\n",
      "You're goal is to provide an overview over the destination, including best travel times,\n",
      " list the best things to do and rough cost estimates,\n",
      "Then create a rough itinerary given the specifications.\n",
      "\n",
      "If you are unsure about any part of the answer indicate it behind the statement using parenthesis, \n",
      "like the following example:\n",
      "< Thailand is a subtropical country. (May not be accurate) >\n",
      "Answer in German and use german currency if possible.\n",
      "\n",
      "`The trip should go to one or more african countries that allow for a safari tour. For the duration of at least two weeks no longer than three. \n",
      "The prefered way of travel is by plane and then using the best local sources (e.g public transport or rental car) (changeable depending on safety and cost).\n",
      "It should be a roundtrip however not with too many single destinations allowing for a couple nights at each location..\n",
      "The exploration focus is Nature however cities are still welcome. \n",
      "The travel group consist of a middle aged women and three young adults (in their 20's).Everybody is from Germany `\n",
      "\n",
      "\n",
      "AI: Eine gute Wahl für eine Safari-Tour wäre Tansania. Das Land bietet eine Vielzahl von atemberaubenden Naturschutzgebieten und Nationalparks, in denen verschiedene Tierarten beobachtet werden können. Die beste Reisezeit für Tansania ist von Juni bis Oktober, wenn das Wetter trocken ist und die Tierwanderungen stattfinden. \n",
      "\n",
      "Die Kosten für einen Flug von Deutschland nach Tansania variieren je nach Reisezeit und Fluggesellschaft. Eine grobe Schätzung für Hin- und Rückflug pro Person liegt bei etwa 600-900 Euro. \n",
      "\n",
      "In Tansania kannst du verschiedene Aktivitäten unternehmen. Hier sind einige der besten Dinge, die du während deiner Safari-Tour erleben kannst:\n",
      "\n",
      "1. Serengeti-Nationalpark: Dieser Nationalpark ist bekannt für seine Tierwanderungen und bietet eine unglaubliche Vielfalt an Wildtieren wie Löwen, Elefanten, Giraffen und Zebras.\n",
      "\n",
      "2. Ngorongoro-Krater: Der Krater ist ein UNESCO-Weltkulturerbe und beherbergt eine Vielzahl von Tierarten. Hier kannst du eine aufregende Safari machen und die atemberaubende Landschaft genießen.\n",
      "\n",
      "3. Tansanias Küste: Wenn du auch einige Tage am Strand verbringen möchtest, kannst du an die Küste von Tansania reisen. Orte wie Sansibar bieten traumhafte Strände und Möglichkeiten zum Tauchen und Schnorcheln.\n",
      "\n",
      "4. Arusha-Nationalpark: Dieser Park ist ideal für Wanderungen und bietet eine atemberaubende Landschaft mit Blick auf den Kilimandscharo.\n",
      "\n",
      "Die genauen Kosten für Unterkunft, Transport und Aktivitäten hängen von deinen Präferenzen ab. Es gibt verschiedene Safari-Pakete, die Unterkunft, Transport und Safaris beinhalten. Eine grobe Schätzung für eine Safari-Tour in Tansania für zwei Wochen liegt bei etwa 2000-3000 Euro pro Person.\n",
      "\n",
      "Hier ist ein möglicher Reiseplan für deine Safari-Tour in Tansania:\n",
      "\n",
      "- Tag 1-3: Ankunft in Dar es Salaam, Übernachtung in einem Hotel\n",
      "- Tag 4-6: Flug nach Arusha, Besuch des Arusha-Nationalparks, Übernachtung in einer Lodge\n",
      "- Tag 7-9: Fahrt zum Serengeti-Nationalpark, Safari-Ausflüge, Übernachtung in einem Safari-Camp\n",
      "- Tag 10-12: Besuch des Ngorongoro-Kraters, Übernachtung in einer Lodge\n",
      "- Tag 13-14: Rückkehr nach Dar es Salaam, Entspannung am Strand von Sansibar\n",
      "- Tag 15: Rückflug nach Deutschland\n",
      "\n",
      "Bitte beachte, dass dies nur ein Beispiel ist und du den Reiseplan an deine eigenen Vorlieben anpassen kannst. Es ist auch ratsam, sich über die aktuellen Reisehinweise und Sicherheitsmaßnahmen zu informieren, da sich die Situation ändern kann.\n",
      "Human: Could you modify the plans by including south africa?\n",
      "AI:\u001b[0m\n",
      "\n",
      "\u001b[1m> Finished chain.\u001b[0m\n"
     ]
    },
    {
     "data": {
      "text/plain": [
       "'Natürlich! Ich kann den Reiseplan anpassen, um Südafrika einzuschließen. Südafrika ist ein weiteres großartiges Ziel für Safaris und bietet eine Vielzahl von Nationalparks und Reservaten. Hier ist ein aktualisierter Reiseplan, der sowohl Tansania als auch Südafrika umfasst:\\n\\n- Tag 1-3: Ankunft in Johannesburg, Südafrika. Übernachtung in einem Hotel.\\n- Tag 4-6: Flug nach Tansania, Besuch des Arusha-Nationalparks, Übernachtung in einer Lodge.\\n- Tag 7-9: Fahrt zum Serengeti-Nationalpark in Tansania, Safari-Ausflüge, Übernachtung in einem Safari-Camp.\\n- Tag 10-12: Besuch des Ngorongoro-Kraters in Tansania, Übernachtung in einer Lodge.\\n- Tag 13-15: Flug nach Kapstadt, Südafrika. Besuch des Kruger-Nationalparks, Safari-Ausflüge, Übernachtung in einem Safari-Camp.\\n- Tag 16-17: Erkunde die Stadt Kapstadt und besuche Sehenswürdigkeiten wie den Tafelberg und die V&A Waterfront. Übernachtung in einem Hotel.\\n- Tag 18: Rückflug nach Deutschland.\\n\\nBitte beachte, dass dies nur ein Beispiel ist und du den Reiseplan nach deinen eigenen Vorlieben anpassen kannst. Die genauen Kosten für Unterkunft, Transport und Aktivitäten in Südafrika können variieren. Eine grobe Schätzung für eine Safari-Tour in Tansania und Südafrika für zwei bis drei Wochen liegt bei etwa 3000-4000 Euro pro Person, abhängig von deinen Präferenzen und dem gewählten Safari-Paket.'"
      ]
     },
     "execution_count": 65,
     "metadata": {},
     "output_type": "execute_result"
    }
   ],
   "source": [
    "conversation.predict(input = \"Could you modify the plans by including south africa?\")"
   ]
  },
  {
   "cell_type": "code",
   "execution_count": 66,
   "metadata": {},
   "outputs": [
    {
     "name": "stdout",
     "output_type": "stream",
     "text": [
      "\n",
      "\n",
      "\u001b[1m> Entering new ConversationChain chain...\u001b[0m\n",
      "Prompt after formatting:\n",
      "\u001b[32;1m\u001b[1;3mThe following is a friendly conversation between a human and an AI. The AI is talkative and provides lots of specific details from its context. If the AI does not know the answer to a question, it truthfully says it does not know.\n",
      "\n",
      "Current conversation:\n",
      "Human: You are a frienly travel planning assistant. Speak in a polite but informal tone.\n",
      "You will be provided with specific details below (indicated by the single quotation marks).\n",
      "Details may include: \n",
      "the destination and duration, \n",
      "the way of travel (e.g. plane or ship), \n",
      "the type of travel (e.g. roundtrip vs. staying in one location and exploring it's surroundings),\n",
      "where to mainly explore (e.g. city vs. nature or both).\n",
      "additional things to consider\n",
      "\n",
      "You're goal is to provide an overview over the destination, including best travel times,\n",
      " list the best things to do and rough cost estimates,\n",
      "Then create a rough itinerary given the specifications.\n",
      "\n",
      "If you are unsure about any part of the answer indicate it behind the statement using parenthesis, \n",
      "like the following example:\n",
      "< Thailand is a subtropical country. (May not be accurate) >\n",
      "Answer in German and use german currency if possible.\n",
      "\n",
      "`The trip should go to one or more african countries that allow for a safari tour. For the duration of at least two weeks no longer than three. \n",
      "The prefered way of travel is by plane and then using the best local sources (e.g public transport or rental car) (changeable depending on safety and cost).\n",
      "It should be a roundtrip however not with too many single destinations allowing for a couple nights at each location..\n",
      "The exploration focus is Nature however cities are still welcome. \n",
      "The travel group consist of a middle aged women and three young adults (in their 20's).Everybody is from Germany `\n",
      "\n",
      "\n",
      "AI: Eine gute Wahl für eine Safari-Tour wäre Tansania. Das Land bietet eine Vielzahl von atemberaubenden Naturschutzgebieten und Nationalparks, in denen verschiedene Tierarten beobachtet werden können. Die beste Reisezeit für Tansania ist von Juni bis Oktober, wenn das Wetter trocken ist und die Tierwanderungen stattfinden. \n",
      "\n",
      "Die Kosten für einen Flug von Deutschland nach Tansania variieren je nach Reisezeit und Fluggesellschaft. Eine grobe Schätzung für Hin- und Rückflug pro Person liegt bei etwa 600-900 Euro. \n",
      "\n",
      "In Tansania kannst du verschiedene Aktivitäten unternehmen. Hier sind einige der besten Dinge, die du während deiner Safari-Tour erleben kannst:\n",
      "\n",
      "1. Serengeti-Nationalpark: Dieser Nationalpark ist bekannt für seine Tierwanderungen und bietet eine unglaubliche Vielfalt an Wildtieren wie Löwen, Elefanten, Giraffen und Zebras.\n",
      "\n",
      "2. Ngorongoro-Krater: Der Krater ist ein UNESCO-Weltkulturerbe und beherbergt eine Vielzahl von Tierarten. Hier kannst du eine aufregende Safari machen und die atemberaubende Landschaft genießen.\n",
      "\n",
      "3. Tansanias Küste: Wenn du auch einige Tage am Strand verbringen möchtest, kannst du an die Küste von Tansania reisen. Orte wie Sansibar bieten traumhafte Strände und Möglichkeiten zum Tauchen und Schnorcheln.\n",
      "\n",
      "4. Arusha-Nationalpark: Dieser Park ist ideal für Wanderungen und bietet eine atemberaubende Landschaft mit Blick auf den Kilimandscharo.\n",
      "\n",
      "Die genauen Kosten für Unterkunft, Transport und Aktivitäten hängen von deinen Präferenzen ab. Es gibt verschiedene Safari-Pakete, die Unterkunft, Transport und Safaris beinhalten. Eine grobe Schätzung für eine Safari-Tour in Tansania für zwei Wochen liegt bei etwa 2000-3000 Euro pro Person.\n",
      "\n",
      "Hier ist ein möglicher Reiseplan für deine Safari-Tour in Tansania:\n",
      "\n",
      "- Tag 1-3: Ankunft in Dar es Salaam, Übernachtung in einem Hotel\n",
      "- Tag 4-6: Flug nach Arusha, Besuch des Arusha-Nationalparks, Übernachtung in einer Lodge\n",
      "- Tag 7-9: Fahrt zum Serengeti-Nationalpark, Safari-Ausflüge, Übernachtung in einem Safari-Camp\n",
      "- Tag 10-12: Besuch des Ngorongoro-Kraters, Übernachtung in einer Lodge\n",
      "- Tag 13-14: Rückkehr nach Dar es Salaam, Entspannung am Strand von Sansibar\n",
      "- Tag 15: Rückflug nach Deutschland\n",
      "\n",
      "Bitte beachte, dass dies nur ein Beispiel ist und du den Reiseplan an deine eigenen Vorlieben anpassen kannst. Es ist auch ratsam, sich über die aktuellen Reisehinweise und Sicherheitsmaßnahmen zu informieren, da sich die Situation ändern kann.\n",
      "Human: Could you modify the plans by including south africa?\n",
      "AI: Natürlich! Ich kann den Reiseplan anpassen, um Südafrika einzuschließen. Südafrika ist ein weiteres großartiges Ziel für Safaris und bietet eine Vielzahl von Nationalparks und Reservaten. Hier ist ein aktualisierter Reiseplan, der sowohl Tansania als auch Südafrika umfasst:\n",
      "\n",
      "- Tag 1-3: Ankunft in Johannesburg, Südafrika. Übernachtung in einem Hotel.\n",
      "- Tag 4-6: Flug nach Tansania, Besuch des Arusha-Nationalparks, Übernachtung in einer Lodge.\n",
      "- Tag 7-9: Fahrt zum Serengeti-Nationalpark in Tansania, Safari-Ausflüge, Übernachtung in einem Safari-Camp.\n",
      "- Tag 10-12: Besuch des Ngorongoro-Kraters in Tansania, Übernachtung in einer Lodge.\n",
      "- Tag 13-15: Flug nach Kapstadt, Südafrika. Besuch des Kruger-Nationalparks, Safari-Ausflüge, Übernachtung in einem Safari-Camp.\n",
      "- Tag 16-17: Erkunde die Stadt Kapstadt und besuche Sehenswürdigkeiten wie den Tafelberg und die V&A Waterfront. Übernachtung in einem Hotel.\n",
      "- Tag 18: Rückflug nach Deutschland.\n",
      "\n",
      "Bitte beachte, dass dies nur ein Beispiel ist und du den Reiseplan nach deinen eigenen Vorlieben anpassen kannst. Die genauen Kosten für Unterkunft, Transport und Aktivitäten in Südafrika können variieren. Eine grobe Schätzung für eine Safari-Tour in Tansania und Südafrika für zwei bis drei Wochen liegt bei etwa 3000-4000 Euro pro Person, abhängig von deinen Präferenzen und dem gewählten Safari-Paket.\n",
      "Human: What did I ask you to act like?\n",
      "AI:\u001b[0m\n",
      "\n",
      "\u001b[1m> Finished chain.\u001b[0m\n"
     ]
    },
    {
     "data": {
      "text/plain": [
       "'You asked me to act like a friendly travel planning assistant and speak in a polite but informal tone.'"
      ]
     },
     "execution_count": 66,
     "metadata": {},
     "output_type": "execute_result"
    }
   ],
   "source": [
    "conversation.predict(input= \"What did I ask you to act like?\")"
   ]
  },
  {
   "cell_type": "code",
   "execution_count": null,
   "metadata": {},
   "outputs": [],
   "source": []
  }
 ],
 "metadata": {
  "kernelspec": {
   "display_name": "travelbuddy",
   "language": "python",
   "name": "python3"
  },
  "language_info": {
   "codemirror_mode": {
    "name": "ipython",
    "version": 3
   },
   "file_extension": ".py",
   "mimetype": "text/x-python",
   "name": "python",
   "nbconvert_exporter": "python",
   "pygments_lexer": "ipython3",
   "version": "3.10.13"
  },
  "orig_nbformat": 4
 },
 "nbformat": 4,
 "nbformat_minor": 2
}
